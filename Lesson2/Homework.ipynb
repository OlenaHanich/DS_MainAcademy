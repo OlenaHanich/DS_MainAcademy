{
 "cells":[
  {
   "cell_type":"code",
   "source":[
    "a = int (input ('Введіть значення а'))\n",
    "\n",
    "b = int (input ('Введіть значення b'))\n",
    "\n",
    "print (a > 0)  #Чи є а додатнім\n",
    "\n",
    "print (a % 2 == 0)   #Чи э a парним\n",
    "\n",
    "print (a % 13 == 0)  # Чи кратне а 13\n",
    "\n",
    "print (a % 2 == 0 and b % 2 == 0) #Чи є обидва числа а та b парними\n",
    "\n",
    "print ((a % 2 == 0 and b % 2 == 0) or (a % 2 != 0 and b % 2 != 0)) #Чи мають a та b однакову парність"
   ],
   "execution_count":14,
   "outputs":[
    {
     "name":"stdout",
     "text":[
      "Введіть значення а 11\n",
      "Введіть значення b 13\n",
      "True\n",
      "False\n",
      "False\n",
      "False\n",
      "True\n"
     ],
     "output_type":"stream"
    }
   ],
   "metadata":{
    "datalore":{
     "type":"CODE",
     "hide_input_from_viewers":false,
     "hide_output_from_viewers":false
    }
   }
  },
  {
   "cell_type":"code",
   "source":[
    
   ],
   "execution_count":null,
   "outputs":[
    
   ],
   "metadata":{
    "datalore":{
     "type":"CODE",
     "hide_input_from_viewers":false,
     "hide_output_from_viewers":false
    }
   }
  },
  {
   "cell_type":"code",
   "source":[
    "pswd = input ('Введіть пароль')\n",
    "\n",
    "a = len(pswd)\n",
    "\n",
    "print ( a > 7 and (('$' in pswd) or ('%' in pswd)) )"
   ],
   "execution_count":20,
   "outputs":[
    {
     "name":"stdout",
     "text":[
      "Введіть пароль auifbvhakjn$\n",
      "True\n"
     ],
     "output_type":"stream"
    }
   ],
   "metadata":{
    "datalore":{
     "type":"CODE",
     "hide_input_from_viewers":false,
     "hide_output_from_viewers":false
    }
   }
  }
 ],
 "metadata":{
  "datalore":{
   "version":1,
   "computation_mode":"JUPYTER",
   "package_manager":"pip",
   "base_environment":"default",
   "packages":[
    
   ]
  }
 },
 "nbformat":4,
 "nbformat_minor":4
}